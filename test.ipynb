{
 "cells": [
  {
   "cell_type": "code",
   "execution_count": 1,
   "id": "c7e15402",
   "metadata": {},
   "outputs": [
    {
     "name": "stdout",
     "output_type": "stream",
     "text": [
      "False True\n"
     ]
    }
   ],
   "source": [
    "s = \"Lap trinh Python\"\n",
    "print(s.startswith('P'), s[10:].startswith('P'))"
   ]
  },
  {
   "cell_type": "code",
   "execution_count": 3,
   "id": "66b98b1d",
   "metadata": {},
   "outputs": [
    {
     "name": "stdout",
     "output_type": "stream",
     "text": [
      "50\n"
     ]
    }
   ],
   "source": [
    "x= 50 \n",
    "def f(x):\n",
    "    x = 2 \n",
    "f(x)\n",
    "print(x)"
   ]
  },
  {
   "cell_type": "code",
   "execution_count": 4,
   "id": "4d7b6bf7",
   "metadata": {},
   "outputs": [
    {
     "name": "stdout",
     "output_type": "stream",
     "text": [
      "[[7], [7], [7]]\n"
     ]
    }
   ],
   "source": [
    "x = [[]]*3\n",
    "x[1].append(7)\n",
    "print(x)"
   ]
  },
  {
   "cell_type": "code",
   "execution_count": 5,
   "id": "4bcdd9db",
   "metadata": {},
   "outputs": [
    {
     "name": "stdout",
     "output_type": "stream",
     "text": [
      "a=D,b=A,c=['A', 'T']\n"
     ]
    }
   ],
   "source": [
    "l = list('DATAANA')\n",
    "p=l[0],l[-1],l[1:3]\n",
    "print('a={0},b={1},c={2}'.format(*p))"
   ]
  },
  {
   "cell_type": "code",
   "execution_count": 6,
   "id": "573bb831",
   "metadata": {},
   "outputs": [
    {
     "name": "stdout",
     "output_type": "stream",
     "text": [
      "*walking*\n"
     ]
    }
   ],
   "source": [
    "class Dog:\n",
    "    def walk(self):\n",
    "        return \"*walking*\"\n",
    "    def speak(self):\n",
    "        return \"Woof!\"\n",
    "\n",
    "class JackRussellTerrier(Dog):\n",
    "    def speak(self):\n",
    "        return \"Arff!\"\n",
    "\n",
    "bobo = JackRussellTerrier()\n",
    "print(bobo.walk())\n"
   ]
  },
  {
   "cell_type": "code",
   "execution_count": 7,
   "id": "9880843c",
   "metadata": {},
   "outputs": [
    {
     "ename": "TypeError",
     "evalue": "'int' object is not iterable",
     "output_type": "error",
     "traceback": [
      "\u001b[31m---------------------------------------------------------------------------\u001b[39m",
      "\u001b[31mTypeError\u001b[39m                                 Traceback (most recent call last)",
      "\u001b[36mCell\u001b[39m\u001b[36m \u001b[39m\u001b[32mIn[7]\u001b[39m\u001b[32m, line 3\u001b[39m\n\u001b[32m      1\u001b[39m x = \u001b[32m5678\u001b[39m\n\u001b[32m----> \u001b[39m\u001b[32m3\u001b[39m \u001b[38;5;28;43;01mfor\u001b[39;49;00m\u001b[43m \u001b[49m\u001b[43mi\u001b[49m\u001b[43m \u001b[49m\u001b[38;5;129;43;01min\u001b[39;49;00m\u001b[43m \u001b[49m\u001b[43mx\u001b[49m\u001b[43m:\u001b[49m\n\u001b[32m      4\u001b[39m \u001b[43m    \u001b[49m\u001b[38;5;28;43mprint\u001b[39;49m\u001b[43m(\u001b[49m\u001b[43mi\u001b[49m\u001b[43m,\u001b[49m\u001b[43m \u001b[49m\u001b[43mend\u001b[49m\u001b[43m=\u001b[49m\u001b[33;43m'\u001b[39;49m\u001b[33;43m,\u001b[39;49m\u001b[33;43m'\u001b[39;49m\u001b[43m)\u001b[49m\n",
      "\u001b[31mTypeError\u001b[39m: 'int' object is not iterable"
     ]
    }
   ],
   "source": [
    "x = 5678\n",
    "\n",
    "for i in x:\n",
    "    print(i, end=',')"
   ]
  },
  {
   "cell_type": "code",
   "execution_count": 8,
   "id": "22161c04",
   "metadata": {},
   "outputs": [
    {
     "name": "stdout",
     "output_type": "stream",
     "text": [
      "[15, 27, 6, [34]]\n"
     ]
    }
   ],
   "source": [
    "# In ra [15, 27, 6, [34]]\n",
    "a = [15, 27, 6, [42]]\n",
    "b = a.copy()   # lưu lại trước khi thay đổi\n",
    "a[3][0] = 34\n",
    "a[1] = 18\n",
    "print(b)"
   ]
  },
  {
   "cell_type": "code",
   "execution_count": 9,
   "id": "8d3b5a7c",
   "metadata": {},
   "outputs": [
    {
     "name": "stdout",
     "output_type": "stream",
     "text": [
      "((('check',),),)\n"
     ]
    }
   ],
   "source": [
    "a = ('check',)\n",
    "n = 2\n",
    "for i in range(int(n)):\n",
    "    a = (a,)\n",
    "print(a)"
   ]
  },
  {
   "cell_type": "code",
   "execution_count": 10,
   "id": "f74286f8",
   "metadata": {},
   "outputs": [
    {
     "name": "stdout",
     "output_type": "stream",
     "text": [
      "True\n"
     ]
    }
   ],
   "source": [
    "class A:\n",
    "    def __init__(self, x = 2, y = 3):\n",
    "        self.x = x\n",
    "        self.y = y\n",
    "\n",
    "    def __str__(self):\n",
    "        return \"A\"\n",
    "\n",
    "    def __eq__(self, num):\n",
    "        return self.x * self.y == num.x * num.y\n",
    "\n",
    "\n",
    "def main():\n",
    "    a = A(1, 2)\n",
    "    b = A(2, 1)\n",
    "    print(a == b)\n",
    "\n",
    "\n",
    "main()\n"
   ]
  },
  {
   "cell_type": "code",
   "execution_count": 13,
   "id": "f191ff51",
   "metadata": {},
   "outputs": [
    {
     "name": "stdout",
     "output_type": "stream",
     "text": [
      "****    *\n",
      "****   **\n",
      "****  ***\n",
      "**** ****\n"
     ]
    }
   ],
   "source": [
    "def F(x,s):\n",
    "    return x*s\n",
    "h = int(input('Nhập h: '))\n",
    "for k in range(1,h+1):\n",
    "    print(F('*',h), F(' ',h-k)+F('*',k))\n"
   ]
  },
  {
   "cell_type": "code",
   "execution_count": 15,
   "id": "a8478ee3",
   "metadata": {},
   "outputs": [
    {
     "name": "stdout",
     "output_type": "stream",
     "text": [
      "[4, 5, 6, 8, 10, 12, 12, 15, 18]\n"
     ]
    }
   ],
   "source": [
    "u = [1,2,3]\n",
    "v =[4,5,6]\n",
    "print([x*y for x  in u for y in v ])"
   ]
  },
  {
   "cell_type": "code",
   "execution_count": 16,
   "id": "39623db3",
   "metadata": {},
   "outputs": [
    {
     "name": "stdout",
     "output_type": "stream",
     "text": [
      "[('Sci', 78), ('Math', 87), ('Eng', 92)]\n"
     ]
    }
   ],
   "source": [
    "courseMark = [('Sci', 78), ('Eng', 92), ('Math', 87)]\n",
    "courseMark.sort(key = lambda x: x[1])\n",
    "print(courseMark)\n"
   ]
  },
  {
   "cell_type": "code",
   "execution_count": 18,
   "id": "4d6f5203",
   "metadata": {},
   "outputs": [
    {
     "name": "stdout",
     "output_type": "stream",
     "text": [
      "Các số chẵn:\n",
      "[24, 32, 14, 46, 28, 10]\n"
     ]
    }
   ],
   "source": [
    "dayso = [31,24,32,14,65,46,37,28,19,10]\n",
    "kq = list(filter(lambda a:a%2==0, dayso))\n",
    "print(\"Các số chẵn:\")\n",
    "print(kq)\n"
   ]
  },
  {
   "cell_type": "code",
   "execution_count": 19,
   "id": "b2b692d4",
   "metadata": {},
   "outputs": [
    {
     "name": "stdout",
     "output_type": "stream",
     "text": [
      "[1, 2, 3, 4, 5]\n"
     ]
    },
    {
     "ename": "TypeError",
     "evalue": "list.remove() takes exactly one argument (0 given)",
     "output_type": "error",
     "traceback": [
      "\u001b[31m---------------------------------------------------------------------------\u001b[39m",
      "\u001b[31mTypeError\u001b[39m                                 Traceback (most recent call last)",
      "\u001b[36mCell\u001b[39m\u001b[36m \u001b[39m\u001b[32mIn[19]\u001b[39m\u001b[32m, line 4\u001b[39m\n\u001b[32m      2\u001b[39m L.append(\u001b[32m5\u001b[39m)\n\u001b[32m      3\u001b[39m \u001b[38;5;28mprint\u001b[39m(L)\n\u001b[32m----> \u001b[39m\u001b[32m4\u001b[39m \u001b[43mL\u001b[49m\u001b[43m.\u001b[49m\u001b[43mremove\u001b[49m\u001b[43m(\u001b[49m\u001b[43m)\u001b[49m\n",
      "\u001b[31mTypeError\u001b[39m: list.remove() takes exactly one argument (0 given)"
     ]
    }
   ],
   "source": [
    "L = list([1,2,3,4])\n",
    "L.append(5)\n",
    "print(L)\n",
    "L.remove()"
   ]
  },
  {
   "cell_type": "code",
   "execution_count": 24,
   "id": "8be31f84",
   "metadata": {},
   "outputs": [
    {
     "name": "stdout",
     "output_type": "stream",
     "text": [
      "[1, 5, 9]\n"
     ]
    }
   ],
   "source": [
    "# In ra các phần tử trên đường chéo chính của x. Ví dụ [1, 5, 9]\n",
    "x = [[1, 2, 3],\n",
    "     [4, 5, 6],\n",
    "     [7, 8, 9]]\n",
    "print([x[i][i]for i in range(len(x))])\n"
   ]
  },
  {
   "cell_type": "code",
   "execution_count": 28,
   "id": "1468349d",
   "metadata": {},
   "outputs": [
    {
     "name": "stdout",
     "output_type": "stream",
     "text": [
      "p,y, ,i,s, ,l,a,n,g,u,a,g,e,"
     ]
    }
   ],
   "source": [
    "string = \"py is language\"\n",
    "\n",
    "for i in ' '.join(string.split()):\n",
    "    print(i, end=\",\")"
   ]
  },
  {
   "cell_type": "code",
   "execution_count": 35,
   "id": "d1a6f1dd",
   "metadata": {},
   "outputs": [
    {
     "name": "stdout",
     "output_type": "stream",
     "text": [
      "45\n"
     ]
    }
   ],
   "source": [
    "class A:\n",
    "    def __init__(self):\n",
    "        self.a = 1\n",
    "        self.__b = 1\n",
    "\n",
    "    def getY(self):\n",
    "        return self.__b\n",
    "\n",
    "obj = A();obj.a = 45\n",
    "print(obj.a)\n"
   ]
  },
  {
   "cell_type": "code",
   "execution_count": 36,
   "id": "37580fbb",
   "metadata": {},
   "outputs": [
    {
     "name": "stdout",
     "output_type": "stream",
     "text": [
      "A A A\n"
     ]
    }
   ],
   "source": [
    "class A:\n",
    "    def __str__(self):\n",
    "        return \"A\"\n",
    "\n",
    "class B(A):\n",
    "    def __init__(self):\n",
    "        super().__init__()\n",
    "\n",
    "class C(B):\n",
    "    def __init__(self):\n",
    "        super().__init__()\n",
    "\n",
    "def main():\n",
    "    b = B()\n",
    "    a = A()\n",
    "    c = C()\n",
    "    print(a, b, c)\n",
    "\n",
    "main()\n"
   ]
  },
  {
   "cell_type": "code",
   "execution_count": 40,
   "id": "eb0c3480",
   "metadata": {},
   "outputs": [
    {
     "name": "stdout",
     "output_type": "stream",
     "text": [
      "*\n",
      "**\n",
      "***\n",
      "****\n"
     ]
    }
   ],
   "source": [
    "def F(x, s):\n",
    "    return x*s\n",
    "\n",
    "h = int(input('Nhập h: '))\n",
    "for k in range(1, h+1):\n",
    "    print(F('*', h)[:k])\n"
   ]
  },
  {
   "cell_type": "code",
   "execution_count": 4,
   "id": "504cb8dd",
   "metadata": {},
   "outputs": [
    {
     "name": "stdout",
     "output_type": "stream",
     "text": [
      "242\n"
     ]
    }
   ],
   "source": [
    "A =\"\"\"X X X X X X X X X X X X X X X X X X X X X X X X X X X X\n",
    "X X X X X X X X X X X X X X X X X X X X X X X X X X X X\n",
    "X X X X X X X X X X X X X X X X X X X X X X X X X X X X\n",
    "0 1 1 1 1 1 1 1 1 1 1 1 1 7 8 1 1 1 1 1 1 1 1 1 1 1 1 0\n",
    "1 + . . . . + . . . . . + 3 3 + . . . . . + . . . . + 1\n",
    "1 . 2 3 3 2 . 2 3 3 3 2 . 3 3 . 2 3 3 3 2 . 2 3 3 2 . 1\n",
    "1 p 3 X X 3 . 3 X X X 3 . 3 3 . 3 X X X 3 . 3 X X 3 p 1\n",
    "1 . 2 3 3 2 . 2 3 3 3 2 . 2 2 . 2 3 3 3 2 . 2 3 3 2 . 1\n",
    "1 + . . . . + . . + . . + . . + . . + . . + . . . . + 1\n",
    "1 . 2 3 3 2 . 2 2 . 2 3 3 3 3 3 3 2 . 2 2 . 2 3 3 2 . 1\n",
    "1 . 2 3 3 2 . 3 3 . 2 3 3 9 9 3 3 2 . 3 3 . 2 3 3 2 . 1\n",
    "1 + . . . . + 3 3 + . . + 3 3 + . . + 3 3 + . . . . + 1\n",
    "0 1 1 1 1 6 . 3 9 3 3 2 | 3 3 | 2 3 3 9 3 . 6 1 1 1 1 0\n",
    "X X X X X 1 . 3 9 3 3 2 | 2 2 | 2 3 3 9 3 . 1 X X X X X\n",
    "X X X X X 1 . 3 3 n - - n - - n - - n 3 3 . 1 X X X X X\n",
    "X X X X X 1 . 3 3 | 4 5 5 = = 5 5 4 | 3 3 . 1 X X X X X\n",
    "1 1 1 1 1 6 . 2 2 | 5 X X X X X X 5 | 2 2 . 6 1 1 1 1 1\n",
    "n - - - - - + - - n 5 X X X X X X 5 n - - + - - - - - n\n",
    "1 1 1 1 1 6 . 2 2 | 5 X X X X X X 5 | 2 2 . 6 1 1 1 1 1\n",
    "X X X X X 1 . 3 3 | 4 5 5 5 5 5 5 4 | 3 3 . 1 X X X X X\n",
    "X X X X X 1 . 3 3 n - - - - - - - - n 3 3 . 1 X X X X X\n",
    "X X X X X 1 . 3 3 | 2 3 3 3 3 3 3 2 | 3 3 . 1 X X X X X\n",
    "0 1 1 1 1 6 . 2 2 | 2 3 3 9 9 3 3 2 | 2 2 . 6 1 1 1 1 0\n",
    "1 + . . . . + . . + . . + 3 3 + . . + . . + . . . . + 1\n",
    "1 . 2 3 3 2 . 2 3 3 3 2 . 3 3 . 2 3 3 3 2 . 2 3 3 2 . 1\n",
    "1 . 2 3 9 3 . 2 3 3 3 2 . 2 2 . 2 3 3 3 2 . 3 9 3 2 . 1\n",
    "1 P . + 3 3 + . . + . . + - - + . . + . . + 3 3 + . P 1\n",
    "8 3 2 . 3 3 . 2 2 . 2 3 3 3 3 3 3 2 . 2 2 . 3 3 . 2 3 7\n",
    "7 3 2 . 2 2 . 3 3 . 2 3 3 9 9 3 3 2 . 3 3 . 2 2 . 2 3 8\n",
    "1 + . + . . + 3 3 + . . + 3 3 + . . + 3 3 + . . + . + 1\n",
    "1 . 2 3 3 3 3 9 9 3 3 2 . 3 3 . 2 3 3 9 9 3 3 3 3 2 . 1\n",
    "1 . 2 3 3 3 3 3 3 3 3 2 . 2 2 . 2 3 3 3 3 3 3 3 3 2 . 1\n",
    "1 + . . . . . . . . . . + . . + . . . . . . . . . . + 1\n",
    "0 1 1 1 1 1 1 1 1 1 1 1 1 1 1 1 1 1 1 1 1 1 1 1 1 1 1 0\n",
    "X X X X X X X X X X X X X X X X X X X X X X X X X X X X\n",
    "X X X X X X X X X X X X X X X X X X X X X X X X X X X X\"\"\"\n",
    "\n",
    "a = A.count(\".\")\n",
    "b = A.count(\"+\")\n",
    "d = A.count(\"p\")\n",
    "\n",
    "print(a+b+d)\n"
   ]
  },
  {
   "cell_type": "code",
   "execution_count": null,
   "id": "c01b5db8",
   "metadata": {},
   "outputs": [],
   "source": [
    "\"\""
   ]
  }
 ],
 "metadata": {
  "kernelspec": {
   "display_name": "base",
   "language": "python",
   "name": "python3"
  },
  "language_info": {
   "codemirror_mode": {
    "name": "ipython",
    "version": 3
   },
   "file_extension": ".py",
   "mimetype": "text/x-python",
   "name": "python",
   "nbconvert_exporter": "python",
   "pygments_lexer": "ipython3",
   "version": "3.13.5"
  }
 },
 "nbformat": 4,
 "nbformat_minor": 5
}
